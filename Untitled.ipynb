{
 "cells": [
  {
   "cell_type": "code",
   "execution_count": 29,
   "id": "00cb3dd7",
   "metadata": {},
   "outputs": [],
   "source": [
    "#import tokenizer\n",
    "import tensorflow as tf\n",
    "from tensorflow import keras\n",
    "from tensorflow.keras.preprocessing.text import Tokenizer\n",
    "from tensorflow.keras.preprocessing.sequence import pad_sequences"
   ]
  },
  {
   "cell_type": "code",
   "execution_count": 30,
   "id": "761a0fd4",
   "metadata": {},
   "outputs": [],
   "source": [
    "#define the input words\n",
    "sentences=[\n",
    "    'I love red',\n",
    "    'I love yellow',\n",
    "    'you love red',\n",
    "    'I want to buy a red teddy'\n",
    "]"
   ]
  },
  {
   "cell_type": "code",
   "execution_count": 23,
   "id": "8b7eca37",
   "metadata": {},
   "outputs": [],
   "source": [
    "#initilaize tokenizer (most common words are taken)\n",
    "tokenizer=Tokenizer(num_words=100,oov_token='<00V>')"
   ]
  },
  {
   "cell_type": "code",
   "execution_count": 24,
   "id": "28eb444d",
   "metadata": {},
   "outputs": [],
   "source": [
    "#gereate index for each word\n",
    "tokenizer.fit_on_texts(sentences)"
   ]
  },
  {
   "cell_type": "code",
   "execution_count": 25,
   "id": "d1f44f66",
   "metadata": {},
   "outputs": [
    {
     "name": "stdout",
     "output_type": "stream",
     "text": [
      "{'<00V>': 1, 'i': 2, 'love': 3, 'red': 4, 'yellow': 5, 'you': 6, 'want': 7, 'to': 8, 'buy': 9, 'a': 10, 'teddy': 11}\n"
     ]
    }
   ],
   "source": [
    "#gettng word indices\n",
    "index=tokenizer.word_index\n",
    "print(index)"
   ]
  },
  {
   "cell_type": "code",
   "execution_count": 26,
   "id": "c9c68204",
   "metadata": {},
   "outputs": [
    {
     "name": "stdout",
     "output_type": "stream",
     "text": [
      "[[2, 3, 4], [2, 3, 5], [6, 3, 4], [2, 7, 8, 9, 10, 4, 11]]\n"
     ]
    }
   ],
   "source": [
    "#converting text to sequence\n",
    "sequence=tokenizer.texts_to_sequences(sentences)\n",
    "print(sequence)"
   ]
  },
  {
   "cell_type": "code",
   "execution_count": 27,
   "id": "282e2961",
   "metadata": {},
   "outputs": [],
   "source": [
    "test_data=[\n",
    "    'I really love red',\n",
    "    'my red loves my rose'\n",
    "]"
   ]
  },
  {
   "cell_type": "code",
   "execution_count": 28,
   "id": "8224a82f",
   "metadata": {},
   "outputs": [
    {
     "name": "stdout",
     "output_type": "stream",
     "text": [
      "[[2, 1, 3, 4], [1, 4, 1, 1, 1]]\n"
     ]
    }
   ],
   "source": [
    "test_sequence=tokenizer.texts_to_sequences(test_data)\n",
    "print(test_sequence)"
   ]
  },
  {
   "cell_type": "code",
   "execution_count": 38,
   "id": "6ec89447",
   "metadata": {},
   "outputs": [
    {
     "name": "stdout",
     "output_type": "stream",
     "text": [
      "[[ 2  3  4  0  0]\n",
      " [ 2  3  5  0  0]\n",
      " [ 6  3  4  0  0]\n",
      " [ 2  7  8  9 10]]\n"
     ]
    }
   ],
   "source": [
    "#adding pads to get outputs in uniform size\n",
    "paded=pad_sequences(sequence,padding='post',maxlen=5, truncating='post' )\n",
    "print(paded)"
   ]
  },
  {
   "cell_type": "code",
   "execution_count": 39,
   "id": "b89466ac",
   "metadata": {},
   "outputs": [
    {
     "name": "stdout",
     "output_type": "stream",
     "text": [
      "word index :  {'<00V>': 1, 'i': 2, 'love': 3, 'red': 4, 'yellow': 5, 'you': 6, 'want': 7, 'to': 8, 'buy': 9, 'a': 10, 'teddy': 11}\n",
      "sequences :  [[2, 3, 4], [2, 3, 5], [6, 3, 4], [2, 7, 8, 9, 10, 4, 11]]\n",
      " paddings : [[ 2  3  4  0  0]\n",
      " [ 2  3  5  0  0]\n",
      " [ 6  3  4  0  0]\n",
      " [ 2  7  8  9 10]]\n"
     ]
    }
   ],
   "source": [
    "print('word index : ',index)\n",
    "print('sequences : ', sequence)\n",
    "print(' paddings :', paded)"
   ]
  },
  {
   "cell_type": "code",
   "execution_count": null,
   "id": "35aa51de",
   "metadata": {},
   "outputs": [],
   "source": []
  }
 ],
 "metadata": {
  "kernelspec": {
   "display_name": "Python 3 (ipykernel)",
   "language": "python",
   "name": "python3"
  },
  "language_info": {
   "codemirror_mode": {
    "name": "ipython",
    "version": 3
   },
   "file_extension": ".py",
   "mimetype": "text/x-python",
   "name": "python",
   "nbconvert_exporter": "python",
   "pygments_lexer": "ipython3",
   "version": "3.9.7"
  }
 },
 "nbformat": 4,
 "nbformat_minor": 5
}
